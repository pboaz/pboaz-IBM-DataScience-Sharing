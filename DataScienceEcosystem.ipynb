{
 "cells": [
  {
   "cell_type": "markdown",
   "id": "1bc8497c-4e5a-4e74-bdd7-bcc26b6ac7ab",
   "metadata": {},
   "source": [
    "# Data Science Tools and Ecosystem"
   ]
  },
  {
   "cell_type": "markdown",
   "id": "be33debe-c6ff-4c17-9f53-8cd1508dd5c9",
   "metadata": {},
   "source": [
    "In this notebook, Data Science Tools and Ecosystem are summarized"
   ]
  },
  {
   "cell_type": "markdown",
   "id": "9925b9f1-f45c-4091-9e1e-2caf751305aa",
   "metadata": {},
   "source": [
    "Some of the popular languages that data scientists use are:\n",
    "* Python\n",
    "* R\n",
    "* SQL\n",
    "* Julia"
   ]
  },
  {
   "cell_type": "markdown",
   "id": "02c61abd-2727-4537-ab44-42e7d531f07a",
   "metadata": {},
   "source": [
    "Some of the commonly used libraries used by Data Scientists include:\n",
    "* Pandas\n",
    "* NumPy\n",
    "* Matplotlib\n",
    "* Sckitlearn\n",
    "* Keras\n",
    "* TensorFlow\n",
    "* Pytorch"
   ]
  },
  {
   "cell_type": "markdown",
   "id": "00861598-6f1a-44d2-a94e-0fd93bd82cb7",
   "metadata": {},
   "source": [
    "| Data Science Tools |\n",
    "|------------------|\n",
    "| Anaconda |\n",
    "| RStudio |\n",
    "| JupyterLab |\n",
    " "
   ]
  },
  {
   "cell_type": "markdown",
   "id": "277a5ed6-28bc-4f96-8ad5-404eadadc47a",
   "metadata": {},
   "source": [
    "### Below are a few examples of evaluating arithmetic expressions in Python: "
   ]
  },
  {
   "cell_type": "code",
   "execution_count": 11,
   "id": "e2d98b37-0c3b-4be4-ad40-534bcef03c5b",
   "metadata": {},
   "outputs": [
    {
     "data": {
      "text/plain": [
       "17"
      ]
     },
     "execution_count": 11,
     "metadata": {},
     "output_type": "execute_result"
    }
   ],
   "source": [
    "## This is a simple expression to multiply and then add numbers\n",
    "(3*4)+5"
   ]
  },
  {
   "cell_type": "code",
   "execution_count": 13,
   "id": "73ce07ca-4377-4afa-ba82-959834b4f5f2",
   "metadata": {},
   "outputs": [
    {
     "data": {
      "text/plain": [
       "3.3333333333333335"
      ]
     },
     "execution_count": 13,
     "metadata": {},
     "output_type": "execute_result"
    }
   ],
   "source": [
    "## This will convert 200 minutes into hours by dividing by 60\n",
    "200/60"
   ]
  },
  {
   "cell_type": "markdown",
   "id": "0f078a03-d91c-4dde-b8f5-6fa9755ddd25",
   "metadata": {},
   "source": [
    "*Objectives*\n",
    "* List popular languages for data science\n",
    "* Give the names of some libaries used in data science\n",
    "* Demonstrate Markup features of Jupyter notebooks: Heading styles, unordered lists. tables, bold font\n",
    "* Demonstrate some simple Python arithmetic functions"
   ]
  },
  {
   "cell_type": "markdown",
   "id": "99a59e9e-b75a-49c2-a5e6-267756c383a2",
   "metadata": {},
   "source": [
    "## Author\n",
    "Niall Shakeshaft"
   ]
  }
 ],
 "metadata": {
  "kernelspec": {
   "display_name": "Python 3 (ipykernel)",
   "language": "python",
   "name": "python3"
  },
  "language_info": {
   "codemirror_mode": {
    "name": "ipython",
    "version": 3
   },
   "file_extension": ".py",
   "mimetype": "text/x-python",
   "name": "python",
   "nbconvert_exporter": "python",
   "pygments_lexer": "ipython3",
   "version": "3.12.7"
  }
 },
 "nbformat": 4,
 "nbformat_minor": 5
}
